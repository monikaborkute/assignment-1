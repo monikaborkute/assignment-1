{
  "nbformat": 4,
  "nbformat_minor": 0,
  "metadata": {
    "colab": {
      "name": "Python Jan22.ipynb",
      "provenance": []
    },
    "kernelspec": {
      "name": "python3",
      "display_name": "Python 3"
    }
  },
  "cells": [
    {
      "cell_type": "code",
      "source": [
        "print('Hello Coders!!!')"
      ],
      "metadata": {
        "id": "QIjD6HIDY_zU",
        "colab": {
          "base_uri": "https://localhost:8080/"
        },
        "outputId": "8658c0f5-d0b9-4a15-88a5-e1b3197332e8"
      },
      "execution_count": null,
      "outputs": [
        {
          "output_type": "stream",
          "name": "stdout",
          "text": [
            "Hello Coders!!!\n"
          ]
        }
      ]
    },
    {
      "cell_type": "code",
      "source": [
        "# no '\\n'\n",
        "# By default print() prints the argument and take the cursor to next line\n",
        "print('Hello')\n",
        "print('coders')"
      ],
      "metadata": {
        "colab": {
          "base_uri": "https://localhost:8080/"
        },
        "id": "lZKd7VekgNk5",
        "outputId": "d8fdcad0-e433-4a49-aebb-72504943a020"
      },
      "execution_count": null,
      "outputs": [
        {
          "output_type": "stream",
          "name": "stdout",
          "text": [
            "Hello\n",
            "coders\n"
          ]
        }
      ]
    },
    {
      "cell_type": "code",
      "source": [
        "print('Hello', end = '$')\n",
        "print('coders')"
      ],
      "metadata": {
        "colab": {
          "base_uri": "https://localhost:8080/"
        },
        "id": "vp4XuGclgmIF",
        "outputId": "6679010b-454d-40de-f8f0-a98cef9fa325"
      },
      "execution_count": null,
      "outputs": [
        {
          "output_type": "stream",
          "name": "stdout",
          "text": [
            "Hello$coders\n"
          ]
        }
      ]
    },
    {
      "cell_type": "code",
      "source": [
        "print('Hello', end = ' ')\n",
        "print('coders')"
      ],
      "metadata": {
        "colab": {
          "base_uri": "https://localhost:8080/"
        },
        "id": "m80GioKphG2A",
        "outputId": "f41afda4-724e-4548-9ec6-b69e86fd383d"
      },
      "execution_count": null,
      "outputs": [
        {
          "output_type": "stream",
          "name": "stdout",
          "text": [
            "Hello coders\n"
          ]
        }
      ]
    },
    {
      "cell_type": "code",
      "source": [
        "print('Hello', 'coders')"
      ],
      "metadata": {
        "colab": {
          "base_uri": "https://localhost:8080/"
        },
        "id": "P6AwSQD_hNf9",
        "outputId": "f115c162-5c9a-4cf1-ca26-ecf4a0938c2a"
      },
      "execution_count": null,
      "outputs": [
        {
          "output_type": "stream",
          "name": "stdout",
          "text": [
            "Hello coders\n"
          ]
        }
      ]
    },
    {
      "cell_type": "code",
      "source": [
        "# Variable Creation\n",
        "# Dynamically Typed Language\n",
        "\n",
        "x = 25.50\n",
        "print(type(x))"
      ],
      "metadata": {
        "colab": {
          "base_uri": "https://localhost:8080/"
        },
        "id": "Rs0VesG-hSSG",
        "outputId": "fe9b78da-5127-4eed-ba3b-cc40c29405c6"
      },
      "execution_count": null,
      "outputs": [
        {
          "output_type": "stream",
          "name": "stdout",
          "text": [
            "<class 'float'>\n"
          ]
        }
      ]
    },
    {
      "cell_type": "code",
      "source": [
        "x = 20\n",
        "print(type(x))"
      ],
      "metadata": {
        "colab": {
          "base_uri": "https://localhost:8080/"
        },
        "id": "1PEoJpJvh7eh",
        "outputId": "fc6fce47-9ba6-4c26-8f44-41fd6121b4f6"
      },
      "execution_count": null,
      "outputs": [
        {
          "output_type": "stream",
          "name": "stdout",
          "text": [
            "<class 'int'>\n"
          ]
        }
      ]
    },
    {
      "cell_type": "code",
      "source": [
        "x = 'hello'\n",
        "print(type(x))"
      ],
      "metadata": {
        "colab": {
          "base_uri": "https://localhost:8080/"
        },
        "id": "aQop6ccsiDV3",
        "outputId": "464d7cee-da05-4a64-c93b-4190180a1d22"
      },
      "execution_count": null,
      "outputs": [
        {
          "output_type": "stream",
          "name": "stdout",
          "text": [
            "<class 'str'>\n"
          ]
        }
      ]
    },
    {
      "cell_type": "code",
      "source": [
        "x = True\n",
        "print(type(x))"
      ],
      "metadata": {
        "colab": {
          "base_uri": "https://localhost:8080/"
        },
        "id": "xgkIkMPPiGzh",
        "outputId": "bd1566df-78e0-4fc4-f71c-7ea40c4e070e"
      },
      "execution_count": null,
      "outputs": [
        {
          "output_type": "stream",
          "name": "stdout",
          "text": [
            "<class 'bool'>\n"
          ]
        }
      ]
    },
    {
      "cell_type": "code",
      "source": [
        "x = 2 + 5j\n",
        "print(type(x))"
      ],
      "metadata": {
        "colab": {
          "base_uri": "https://localhost:8080/"
        },
        "id": "k0kxbcx7ilZT",
        "outputId": "3dd27249-91f6-46f7-f0c2-e4eb9ef1b5b8"
      },
      "execution_count": null,
      "outputs": [
        {
          "output_type": "stream",
          "name": "stdout",
          "text": [
            "<class 'complex'>\n"
          ]
        }
      ]
    },
    {
      "cell_type": "code",
      "source": [
        "a = b = c = 10\n",
        "\n",
        "print(a, b, c)"
      ],
      "metadata": {
        "colab": {
          "base_uri": "https://localhost:8080/"
        },
        "id": "6IL-1RUii0H7",
        "outputId": "cef83e86-30f5-4ef9-96ec-54a6b7c0405c"
      },
      "execution_count": null,
      "outputs": [
        {
          "output_type": "stream",
          "name": "stdout",
          "text": [
            "10 10 10\n"
          ]
        }
      ]
    },
    {
      "cell_type": "code",
      "source": [
        "a, b, c = 10, 20, 30\n",
        "print(a, b, c)"
      ],
      "metadata": {
        "colab": {
          "base_uri": "https://localhost:8080/"
        },
        "id": "uwmjLKMljE7v",
        "outputId": "6e90a5d0-de2d-4baf-f9d1-83f4103e6594"
      },
      "execution_count": null,
      "outputs": [
        {
          "output_type": "stream",
          "name": "stdout",
          "text": [
            "10 20 30\n"
          ]
        }
      ]
    },
    {
      "cell_type": "code",
      "source": [
        "a = 10\n",
        "b = 20\n",
        "c = 30\n",
        "print(a, b, c)"
      ],
      "metadata": {
        "colab": {
          "base_uri": "https://localhost:8080/"
        },
        "id": "4P7uawsDjb2a",
        "outputId": "294fccda-966d-4222-ed05-fdcad2e63e75"
      },
      "execution_count": null,
      "outputs": [
        {
          "output_type": "stream",
          "name": "stdout",
          "text": [
            "10 20 30\n"
          ]
        }
      ]
    },
    {
      "cell_type": "code",
      "source": [
        "a = b = c = 10\n",
        "\n",
        "print(id(a))\n",
        "print(id(b))\n",
        "print(id(c))"
      ],
      "metadata": {
        "colab": {
          "base_uri": "https://localhost:8080/"
        },
        "id": "eL9p5PDgjqyd",
        "outputId": "a60584fd-21ec-47aa-bf0a-c4acbc31c974"
      },
      "execution_count": null,
      "outputs": [
        {
          "output_type": "stream",
          "name": "stdout",
          "text": [
            "94788423314208\n",
            "94788423314208\n",
            "94788423314208\n"
          ]
        }
      ]
    },
    {
      "cell_type": "code",
      "source": [
        "# Immutability of Integer\n",
        "a = b = c = 10\n",
        "\n",
        "print(id(a))\n",
        "print(id(b))\n",
        "print(id(c))\n",
        "\n",
        "b = 30\n",
        "print(b)\n",
        "\n",
        "print(id(a))\n",
        "print(id(b))\n",
        "print(id(c))\n",
        "\n"
      ],
      "metadata": {
        "colab": {
          "base_uri": "https://localhost:8080/"
        },
        "id": "Cbtp363yj2g9",
        "outputId": "75e7bbf9-04c3-44e1-eaf7-970496796ae4"
      },
      "execution_count": null,
      "outputs": [
        {
          "output_type": "stream",
          "name": "stdout",
          "text": [
            "94788423314208\n",
            "94788423314208\n",
            "94788423314208\n",
            "30\n",
            "94788423314208\n",
            "94788423314848\n",
            "94788423314208\n"
          ]
        }
      ]
    },
    {
      "cell_type": "code",
      "source": [
        "x = input('Enter a value: ')\n",
        "\n",
        "print(x)"
      ],
      "metadata": {
        "colab": {
          "base_uri": "https://localhost:8080/"
        },
        "id": "huYwxGnGlVDW",
        "outputId": "f186b676-c203-458a-ca93-7b208905843e"
      },
      "execution_count": null,
      "outputs": [
        {
          "output_type": "stream",
          "name": "stdout",
          "text": [
            "Enter a value: 25\n",
            "25\n"
          ]
        }
      ]
    },
    {
      "cell_type": "code",
      "source": [
        "a = input('Enter first no: ')\n",
        "b = input('Enter the second no: ')\n",
        "\n",
        "print('Sum:', a + b)"
      ],
      "metadata": {
        "colab": {
          "base_uri": "https://localhost:8080/"
        },
        "id": "RVVFy2EsmF7S",
        "outputId": "7d18a6ba-57ba-4194-e56d-203cfb810dc4"
      },
      "execution_count": null,
      "outputs": [
        {
          "output_type": "stream",
          "name": "stdout",
          "text": [
            "Enter first no: 15\n",
            "Enter the second no: 20\n",
            "Sum: 1520\n"
          ]
        }
      ]
    },
    {
      "cell_type": "code",
      "source": [
        "'hello' + 'coders'"
      ],
      "metadata": {
        "colab": {
          "base_uri": "https://localhost:8080/",
          "height": 36
        },
        "id": "PV49nGKAmjD5",
        "outputId": "9f7df26c-9421-433e-b5db-f17d64326d9a"
      },
      "execution_count": null,
      "outputs": [
        {
          "output_type": "execute_result",
          "data": {
            "application/vnd.google.colaboratory.intrinsic+json": {
              "type": "string"
            },
            "text/plain": [
              "'hellocoders'"
            ]
          },
          "metadata": {},
          "execution_count": 24
        }
      ]
    },
    {
      "cell_type": "code",
      "source": [
        "'happy' + 'faces'"
      ],
      "metadata": {
        "colab": {
          "base_uri": "https://localhost:8080/",
          "height": 36
        },
        "id": "E1P_ZYXFmuPR",
        "outputId": "18905280-0af9-4ba8-bbc9-ea4832c09fa0"
      },
      "execution_count": null,
      "outputs": [
        {
          "output_type": "execute_result",
          "data": {
            "application/vnd.google.colaboratory.intrinsic+json": {
              "type": "string"
            },
            "text/plain": [
              "'happyfaces'"
            ]
          },
          "metadata": {},
          "execution_count": 25
        }
      ]
    },
    {
      "cell_type": "code",
      "source": [
        "x = input('Enter a number: ')\n",
        "print(type(x))"
      ],
      "metadata": {
        "colab": {
          "base_uri": "https://localhost:8080/"
        },
        "id": "Q29s8t0QmwnY",
        "outputId": "8908a561-cdb2-4f71-9400-417c4b08b444"
      },
      "execution_count": null,
      "outputs": [
        {
          "output_type": "stream",
          "name": "stdout",
          "text": [
            "Enter a number: 25\n",
            "<class 'str'>\n"
          ]
        }
      ]
    },
    {
      "cell_type": "code",
      "source": [
        "x = int(input('Enter a number: '))\n",
        "print(type(x))"
      ],
      "metadata": {
        "colab": {
          "base_uri": "https://localhost:8080/"
        },
        "id": "a1T66tWzm4vy",
        "outputId": "f1650f4c-c219-424b-e44a-13a321a02ab9"
      },
      "execution_count": null,
      "outputs": [
        {
          "output_type": "stream",
          "name": "stdout",
          "text": [
            "Enter a number: 25\n",
            "<class 'int'>\n"
          ]
        }
      ]
    },
    {
      "cell_type": "code",
      "source": [
        "a = int(input('Enter first no: '))\n",
        "b = int(input('Enter the second no: '))\n",
        "\n",
        "print('Sum:', a + b)"
      ],
      "metadata": {
        "colab": {
          "base_uri": "https://localhost:8080/"
        },
        "id": "hZCCEg1EnFDz",
        "outputId": "6031a40e-1341-4d07-9ded-51bf7c192c61"
      },
      "execution_count": null,
      "outputs": [
        {
          "output_type": "stream",
          "name": "stdout",
          "text": [
            "Enter first no: 15\n",
            "Enter the second no: 20\n",
            "Sum: 35\n"
          ]
        }
      ]
    },
    {
      "cell_type": "code",
      "source": [
        "# Multiple Input in Python\n",
        "\n",
        "x = input('Enter the values: ')\n",
        "print(x)\n",
        "print(type(x))"
      ],
      "metadata": {
        "colab": {
          "base_uri": "https://localhost:8080/"
        },
        "id": "tmi8QN7enQi-",
        "outputId": "4a09744a-f15a-45f3-a829-edc5f43b35cb"
      },
      "execution_count": null,
      "outputs": [
        {
          "output_type": "stream",
          "name": "stdout",
          "text": [
            "Enter the values: 10 20 30 40 50\n",
            "10 20 30 40 50\n",
            "<class 'str'>\n"
          ]
        }
      ]
    },
    {
      "cell_type": "code",
      "source": [
        "x = input('Enter the values: ')\n",
        "y = x.split()\n",
        "print(y)\n",
        "\n",
        "# Iterating through the resultant list\n",
        "for i in y:\n",
        "   print(i, type(i))\n"
      ],
      "metadata": {
        "colab": {
          "base_uri": "https://localhost:8080/"
        },
        "id": "42r6VcuKoOzL",
        "outputId": "9933f129-e394-4227-9564-7499982b5005"
      },
      "execution_count": null,
      "outputs": [
        {
          "output_type": "stream",
          "name": "stdout",
          "text": [
            "Enter the values: 10 20 30 40 50\n",
            "['10', '20', '30', '40', '50']\n",
            "10 <class 'str'>\n",
            "20 <class 'str'>\n",
            "30 <class 'str'>\n",
            "40 <class 'str'>\n",
            "50 <class 'str'>\n"
          ]
        }
      ]
    },
    {
      "cell_type": "code",
      "source": [
        "x = input('Enter the values: ')\n",
        "y = x.split()\n",
        "print(y)\n",
        "\n",
        "val = []\n",
        "\n",
        "for i in y:\n",
        "  val.append(int(i))\n",
        "\n",
        "print(val)"
      ],
      "metadata": {
        "colab": {
          "base_uri": "https://localhost:8080/"
        },
        "id": "QPNtpeUIovjT",
        "outputId": "18d6505b-6df3-48ac-9e48-8e4bf0e2b348"
      },
      "execution_count": null,
      "outputs": [
        {
          "output_type": "stream",
          "name": "stdout",
          "text": [
            "Enter the values: 10 20 30 40 50\n",
            "['10', '20', '30', '40', '50']\n",
            "[10, 20, 30, 40, 50]\n"
          ]
        }
      ]
    },
    {
      "cell_type": "code",
      "source": [
        "# List Comprehension\n",
        "x = [int(i) for i in input('Enter values: ').split()]\n",
        "\n",
        "print(x)"
      ],
      "metadata": {
        "colab": {
          "base_uri": "https://localhost:8080/"
        },
        "id": "CaD14m_qqYy4",
        "outputId": "d892869c-1bf0-40df-eb63-8530c511f7d8"
      },
      "execution_count": null,
      "outputs": [
        {
          "output_type": "stream",
          "name": "stdout",
          "text": [
            "Enter values: 10 20 30 40 50\n",
            "[10, 20, 30, 40, 50]\n"
          ]
        }
      ]
    },
    {
      "cell_type": "code",
      "source": [
        ""
      ],
      "metadata": {
        "id": "bPmOAzWgqxdW"
      },
      "execution_count": null,
      "outputs": []
    }
  ]
}